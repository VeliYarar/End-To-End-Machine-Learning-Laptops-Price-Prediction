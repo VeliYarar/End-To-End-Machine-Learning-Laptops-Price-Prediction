{
 "cells": [
  {
   "cell_type": "code",
   "execution_count": 1,
   "id": "d016750f",
   "metadata": {},
   "outputs": [],
   "source": [
    "import numpy as np\n",
    "import matplotlib.pyplot as plt\n",
    "import pandas as pd"
   ]
  },
  {
   "cell_type": "code",
   "execution_count": 2,
   "id": "151965ea",
   "metadata": {},
   "outputs": [],
   "source": [
    "dataset = pd.read_csv('../1.1_Data/laptop_Training.csv')"
   ]
  },
  {
   "cell_type": "code",
   "execution_count": 3,
   "id": "6d9a39c5",
   "metadata": {},
   "outputs": [
    {
     "data": {
      "text/html": [
       "<div>\n",
       "<style scoped>\n",
       "    .dataframe tbody tr th:only-of-type {\n",
       "        vertical-align: middle;\n",
       "    }\n",
       "\n",
       "    .dataframe tbody tr th {\n",
       "        vertical-align: top;\n",
       "    }\n",
       "\n",
       "    .dataframe thead th {\n",
       "        text-align: right;\n",
       "    }\n",
       "</style>\n",
       "<table border=\"1\" class=\"dataframe\">\n",
       "  <thead>\n",
       "    <tr style=\"text-align: right;\">\n",
       "      <th></th>\n",
       "      <th>marka</th>\n",
       "      <th>Isletim_Sistemi</th>\n",
       "      <th>Islemci_Tipi</th>\n",
       "      <th>Islemci_Nesli</th>\n",
       "      <th>SSD_Kapasitesi</th>\n",
       "      <th>Ram</th>\n",
       "      <th>Hard_Disk_Kapasitesi</th>\n",
       "      <th>Ekran_Yenileme_Hizi</th>\n",
       "      <th>Ekran_Karti</th>\n",
       "      <th>Ekran_Boyutu</th>\n",
       "      <th>Fiyat</th>\n",
       "    </tr>\n",
       "  </thead>\n",
       "  <tbody>\n",
       "    <tr>\n",
       "      <th>0</th>\n",
       "      <td>16</td>\n",
       "      <td>1</td>\n",
       "      <td>17</td>\n",
       "      <td>4.0</td>\n",
       "      <td>0.0</td>\n",
       "      <td>4.0</td>\n",
       "      <td>0.0</td>\n",
       "      <td>60.0</td>\n",
       "      <td>14</td>\n",
       "      <td>15.6</td>\n",
       "      <td>6.7990</td>\n",
       "    </tr>\n",
       "    <tr>\n",
       "      <th>1</th>\n",
       "      <td>18</td>\n",
       "      <td>3</td>\n",
       "      <td>10</td>\n",
       "      <td>13.0</td>\n",
       "      <td>256.0</td>\n",
       "      <td>16.0</td>\n",
       "      <td>256.0</td>\n",
       "      <td>60.0</td>\n",
       "      <td>28</td>\n",
       "      <td>13.0</td>\n",
       "      <td>22.9733</td>\n",
       "    </tr>\n",
       "    <tr>\n",
       "      <th>2</th>\n",
       "      <td>16</td>\n",
       "      <td>1</td>\n",
       "      <td>8</td>\n",
       "      <td>5.0</td>\n",
       "      <td>512.0</td>\n",
       "      <td>16.0</td>\n",
       "      <td>0.0</td>\n",
       "      <td>60.0</td>\n",
       "      <td>3</td>\n",
       "      <td>15.6</td>\n",
       "      <td>13.0990</td>\n",
       "    </tr>\n",
       "    <tr>\n",
       "      <th>3</th>\n",
       "      <td>2</td>\n",
       "      <td>1</td>\n",
       "      <td>20</td>\n",
       "      <td>11.0</td>\n",
       "      <td>512.0</td>\n",
       "      <td>8.0</td>\n",
       "      <td>0.0</td>\n",
       "      <td>144.0</td>\n",
       "      <td>44</td>\n",
       "      <td>15.6</td>\n",
       "      <td>24.7500</td>\n",
       "    </tr>\n",
       "    <tr>\n",
       "      <th>4</th>\n",
       "      <td>0</td>\n",
       "      <td>2</td>\n",
       "      <td>17</td>\n",
       "      <td>2.0</td>\n",
       "      <td>128.0</td>\n",
       "      <td>4.0</td>\n",
       "      <td>0.0</td>\n",
       "      <td>60.0</td>\n",
       "      <td>24</td>\n",
       "      <td>15.6</td>\n",
       "      <td>6.2900</td>\n",
       "    </tr>\n",
       "  </tbody>\n",
       "</table>\n",
       "</div>"
      ],
      "text/plain": [
       "   marka  Isletim_Sistemi  Islemci_Tipi  Islemci_Nesli  SSD_Kapasitesi   Ram  \\\n",
       "0     16                1            17            4.0             0.0   4.0   \n",
       "1     18                3            10           13.0           256.0  16.0   \n",
       "2     16                1             8            5.0           512.0  16.0   \n",
       "3      2                1            20           11.0           512.0   8.0   \n",
       "4      0                2            17            2.0           128.0   4.0   \n",
       "\n",
       "   Hard_Disk_Kapasitesi  Ekran_Yenileme_Hizi  Ekran_Karti  Ekran_Boyutu  \\\n",
       "0                   0.0                 60.0           14          15.6   \n",
       "1                 256.0                 60.0           28          13.0   \n",
       "2                   0.0                 60.0            3          15.6   \n",
       "3                   0.0                144.0           44          15.6   \n",
       "4                   0.0                 60.0           24          15.6   \n",
       "\n",
       "     Fiyat  \n",
       "0   6.7990  \n",
       "1  22.9733  \n",
       "2  13.0990  \n",
       "3  24.7500  \n",
       "4   6.2900  "
      ]
     },
     "execution_count": 3,
     "metadata": {},
     "output_type": "execute_result"
    }
   ],
   "source": [
    "dataset.head()"
   ]
  },
  {
   "cell_type": "code",
   "execution_count": 4,
   "id": "8f883d8c",
   "metadata": {},
   "outputs": [],
   "source": [
    "X = dataset.iloc[:, 0:10].values\n",
    "y = dataset.iloc[:, 10].values\n",
    "y = y.reshape(-1, 1) "
   ]
  },
  {
   "cell_type": "code",
   "execution_count": 5,
   "id": "d75cb2ed",
   "metadata": {},
   "outputs": [],
   "source": [
    "from sklearn.model_selection import train_test_split\n",
    "X_train, X_test, y_train, y_test = train_test_split(X, y, test_size = 0.2, random_state = 0)"
   ]
  },
  {
   "cell_type": "code",
   "execution_count": 6,
   "id": "f3cc53bb",
   "metadata": {},
   "outputs": [],
   "source": [
    "from sklearn.tree import DecisionTreeRegressor\n",
    "regressor = DecisionTreeRegressor(random_state = 0)\n",
    "regressor.fit(X_train, y_train)\n",
    "y_predDT = regressor.predict(X_test)"
   ]
  },
  {
   "cell_type": "code",
   "execution_count": 7,
   "id": "f6ca4612",
   "metadata": {},
   "outputs": [],
   "source": [
    "from sklearn.metrics import r2_score\n",
    "DT_RSCORE = r2_score(y_test, y_predDT) "
   ]
  },
  {
   "cell_type": "code",
   "execution_count": 8,
   "id": "5d486ee5",
   "metadata": {},
   "outputs": [
    {
     "name": "stdout",
     "output_type": "stream",
     "text": [
      "0.5254690977435426\n"
     ]
    }
   ],
   "source": [
    "print(DT_RSCORE)"
   ]
  },
  {
   "cell_type": "code",
   "execution_count": 9,
   "id": "6b9a2c5b",
   "metadata": {},
   "outputs": [
    {
     "data": {
      "text/plain": [
       "['../4.1_Models/laptop_decision_tree_model.pkl']"
      ]
     },
     "execution_count": 9,
     "metadata": {},
     "output_type": "execute_result"
    }
   ],
   "source": [
    "import joblib\n",
    "joblib.dump(regressor, \"../4.1_Models/laptop_decision_tree_model.pkl\")"
   ]
  },
  {
   "cell_type": "code",
   "execution_count": null,
   "id": "1559ec86",
   "metadata": {},
   "outputs": [],
   "source": []
  }
 ],
 "metadata": {
  "kernelspec": {
   "display_name": "Python 3 (ipykernel)",
   "language": "python",
   "name": "python3"
  },
  "language_info": {
   "codemirror_mode": {
    "name": "ipython",
    "version": 3
   },
   "file_extension": ".py",
   "mimetype": "text/x-python",
   "name": "python",
   "nbconvert_exporter": "python",
   "pygments_lexer": "ipython3",
   "version": "3.11.4"
  }
 },
 "nbformat": 4,
 "nbformat_minor": 5
}
