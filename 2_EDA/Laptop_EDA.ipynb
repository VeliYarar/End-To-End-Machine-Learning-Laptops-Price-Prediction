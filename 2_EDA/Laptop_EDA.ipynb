{
 "cells": [
  {
   "cell_type": "code",
   "execution_count": 129,
   "metadata": {},
   "outputs": [],
   "source": [
    "import pandas as pd\n",
    "import numpy as np\n",
    "import matplotlib.pyplot as plt\n",
    "import seaborn as sns"
   ]
  },
  {
   "cell_type": "code",
   "execution_count": 130,
   "metadata": {},
   "outputs": [],
   "source": [
    "data = pd.read_csv(\"../data/laptop_trendyol_data3.csv\")"
   ]
  },
  {
   "cell_type": "code",
   "execution_count": 131,
   "metadata": {},
   "outputs": [
    {
     "name": "stdout",
     "output_type": "stream",
     "text": [
      "<class 'pandas.core.frame.DataFrame'>\n",
      "RangeIndex: 1776 entries, 0 to 1775\n",
      "Data columns (total 67 columns):\n",
      " #   Column                           Non-Null Count  Dtype  \n",
      "---  ------                           --------------  -----  \n",
      " 0   ArttÄ±rÄ±labilir Azami Bellek    6 non-null      object \n",
      " 1   Arttırılabilir Azami Bellek      758 non-null    object \n",
      " 2   BaÄŸlantÄ±lar                    15 non-null     object \n",
      " 3   BaÄŸlantÄ±lar (Ä°kincil)         1 non-null      object \n",
      " 4   Bağlantılar                      1367 non-null   object \n",
      " 5   Bağlantılar (İkincil)            21 non-null     object \n",
      " 6   Cihaz AÄŸÄ±rlÄ±ÄŸÄ±              28 non-null     object \n",
      " 7   Cihaz Ağırlığı                   1743 non-null   object \n",
      " 8   Dokunmatik Ekran                 1750 non-null   object \n",
      " 9   Ekran Boyutu                     1751 non-null   object \n",
      " 10  Ekran KartÄ±                     28 non-null     object \n",
      " 11  Ekran KartÄ± Bellek Tipi         28 non-null     object \n",
      " 12  Ekran KartÄ± HafÄ±zasÄ±          28 non-null     object \n",
      " 13  Ekran KartÄ± Tipi                28 non-null     object \n",
      " 14  Ekran Kartı                      1743 non-null   object \n",
      " 15  Ekran Kartı Bellek Tipi          1742 non-null   object \n",
      " 16  Ekran Kartı Hafızası             1738 non-null   object \n",
      " 17  Ekran Kartı Tipi                 1742 non-null   object \n",
      " 18  Ekran Yenileme HÄ±zÄ±            27 non-null     object \n",
      " 19  Ekran Yenileme Hızı              1727 non-null   object \n",
      " 20  Ekran Özelliği                   15 non-null     object \n",
      " 21  Garanti SÃ¼resi                  26 non-null     object \n",
      " 22  Garanti Süresi                   1697 non-null   object \n",
      " 23  Garanti Tipi                     1751 non-null   object \n",
      " 24  Görüntü Kalitesi                 8 non-null      object \n",
      " 25  HDMI                             13 non-null     object \n",
      " 26  Hard Disk Kapasitesi             1736 non-null   object \n",
      " 27  Kapasite                         123 non-null    object \n",
      " 28  Klavye                           1750 non-null   object \n",
      " 29  KullanÄ±m AmacÄ±                 28 non-null     object \n",
      " 30  Kullanım Amacı                   1743 non-null   object \n",
      " 31  Maksimum Ä°ÅŸlemci HÄ±zÄ± (GHz)  11 non-null     float64\n",
      " 32  Maksimum İşlemci Hızı (GHz)      543 non-null    float64\n",
      " 33  Okula DÃ¶nÃ¼ÅŸ                   1 non-null      object \n",
      " 34  Okula Dönüş                      16 non-null     object \n",
      " 35  Optik SÃ¼rÃ¼cÃ¼ Tipi             21 non-null     object \n",
      " 36  Optik Sürücü Tipi                1148 non-null   object \n",
      " 37  Panel Tipi                       786 non-null    object \n",
      " 38  Ram (Sistem BelleÄŸi)            28 non-null     object \n",
      " 39  Ram (Sistem BelleÄŸi) Tipi       27 non-null     object \n",
      " 40  Ram (Sistem Belleği)             1743 non-null   object \n",
      " 41  Ram (Sistem Belleği) Tipi        1727 non-null   object \n",
      " 42  Renk                             1750 non-null   object \n",
      " 43  SSD Kapasitesi                   1751 non-null   object \n",
      " 44  SSD Teknolojisi                  125 non-null    object \n",
      " 45  Soket Tipi                       18 non-null     object \n",
      " 46  Temel Ä°ÅŸlemci HÄ±zÄ± (GHz)     16 non-null     object \n",
      " 47  Temel İşlemci Hızı (GHz)         1023 non-null   object \n",
      " 48  Ã‡Ã¶zÃ¼nÃ¼rlÃ¼k                  28 non-null     object \n",
      " 49  Ã‡Ã¶zÃ¼nÃ¼rlÃ¼k StandartÄ±       28 non-null     object \n",
      " 50  Ä°ÅŸlemci Modeli                 28 non-null     object \n",
      " 51  Ä°ÅŸlemci Nesli                  27 non-null     object \n",
      " 52  Ä°ÅŸlemci Tipi                   28 non-null     object \n",
      " 53  Ä°ÅŸlemci Ã‡ekirdek SayÄ±sÄ±     27 non-null     object \n",
      " 54  Ä°ÅŸletim Sistemi                28 non-null     object \n",
      " 55  ÅžarjlÄ± KullanÄ±m SÃ¼resi       12 non-null     object \n",
      " 56  Çözünürlük                       1743 non-null   object \n",
      " 57  Çözünürlük Standartı             1741 non-null   object \n",
      " 58  İşlemci Frekansı                 3 non-null      object \n",
      " 59  İşlemci Modeli                   1742 non-null   object \n",
      " 60  İşlemci Nesli                    1736 non-null   object \n",
      " 61  İşlemci Tipi                     1743 non-null   object \n",
      " 62  İşlemci Çekirdek Sayısı          1734 non-null   object \n",
      " 63  İşletim Sistemi                  1743 non-null   object \n",
      " 64  Şarjlı Kullanım Süresi           331 non-null    object \n",
      " 65  url                              1776 non-null   object \n",
      " 66  price                            1776 non-null   object \n",
      "dtypes: float64(2), object(65)\n",
      "memory usage: 929.8+ KB\n"
     ]
    }
   ],
   "source": [
    "data.info()"
   ]
  },
  {
   "cell_type": "code",
   "execution_count": 132,
   "metadata": {},
   "outputs": [],
   "source": [
    "data = data.drop(['ArttÄ±rÄ±labilir Azami Bellek','Arttırılabilir Azami Bellek','BaÄŸlantÄ±lar','BaÄŸlantÄ±lar (Ä°kincil)','Bağlantılar (İkincil)','Cihaz AÄŸÄ±rlÄ±ÄŸÄ±'\n",
    "                  ,'Ekran KartÄ±','Ekran KartÄ± Bellek Tipi','Ekran KartÄ± HafÄ±zasÄ±','Ekran KartÄ± Tipi','Ekran Yenileme HÄ±zÄ±',\n",
    "                  'Ekran Özelliği','Garanti SÃ¼resi','Görüntü Kalitesi','HDMI','KullanÄ±m AmacÄ±','Maksimum Ä°ÅŸlemci HÄ±zÄ± (GHz)',\n",
    "                 'Okula DÃ¶nÃ¼ÅŸ','Okula Dönüş','Optik SÃ¼rÃ¼cÃ¼ Tipi','Ram (Sistem BelleÄŸi)','Ram (Sistem BelleÄŸi) Tipi','SSD Teknolojisi','Soket Tipi'\n",
    "                 ,'Temel Ä°ÅŸlemci HÄ±zÄ± (GHz)','Ã‡Ã¶zÃ¼nÃ¼rlÃ¼k','Ã‡Ã¶zÃ¼nÃ¼rlÃ¼k StandartÄ±','Ä°ÅŸlemci Modeli','Ä°ÅŸlemci Nesli',\n",
    "                 'Ä°ÅŸlemci Tipi','Ä°ÅŸlemci Ã‡ekirdek SayÄ±sÄ±','Ä°ÅŸletim Sistemi','ÅžarjlÄ± KullanÄ±m SÃ¼resi','İşlemci Frekansı','Panel Tipi','Maksimum İşlemci Hızı (GHz)','Bağlantılar','Ekran Kartı Bellek Tipi','Garanti Süresi','Garanti Tipi'\n",
    "                 ,'Kapasite','Klavye','Kullanım Amacı','Optik Sürücü Tipi','Renk','Temel İşlemci Hızı (GHz)','Çözünürlük Standartı','İşlemci Modeli','İşlemci Çekirdek Sayısı'\n",
    "                 ,'Şarjlı Kullanım Süresi'], axis=1)"
   ]
  },
  {
   "cell_type": "code",
   "execution_count": 133,
   "metadata": {},
   "outputs": [
    {
     "name": "stdout",
     "output_type": "stream",
     "text": [
      "<class 'pandas.core.frame.DataFrame'>\n",
      "RangeIndex: 1776 entries, 0 to 1775\n",
      "Data columns (total 17 columns):\n",
      " #   Column                     Non-Null Count  Dtype \n",
      "---  ------                     --------------  ----- \n",
      " 0   Cihaz Ağırlığı             1743 non-null   object\n",
      " 1   Dokunmatik Ekran           1750 non-null   object\n",
      " 2   Ekran Boyutu               1751 non-null   object\n",
      " 3   Ekran Kartı                1743 non-null   object\n",
      " 4   Ekran Kartı Hafızası       1738 non-null   object\n",
      " 5   Ekran Kartı Tipi           1742 non-null   object\n",
      " 6   Ekran Yenileme Hızı        1727 non-null   object\n",
      " 7   Hard Disk Kapasitesi       1736 non-null   object\n",
      " 8   Ram (Sistem Belleği)       1743 non-null   object\n",
      " 9   Ram (Sistem Belleği) Tipi  1727 non-null   object\n",
      " 10  SSD Kapasitesi             1751 non-null   object\n",
      " 11  Çözünürlük                 1743 non-null   object\n",
      " 12  İşlemci Nesli              1736 non-null   object\n",
      " 13  İşlemci Tipi               1743 non-null   object\n",
      " 14  İşletim Sistemi            1743 non-null   object\n",
      " 15  url                        1776 non-null   object\n",
      " 16  price                      1776 non-null   object\n",
      "dtypes: object(17)\n",
      "memory usage: 236.0+ KB\n"
     ]
    }
   ],
   "source": [
    "data.info()\n"
   ]
  },
  {
   "cell_type": "code",
   "execution_count": 134,
   "metadata": {},
   "outputs": [],
   "source": [
    "data = data.drop(['Cihaz Ağırlığı','Dokunmatik Ekran','Ekran Kartı Hafızası','Ekran Kartı Tipi','Ram (Sistem Belleği) Tipi'], axis=1)"
   ]
  },
  {
   "cell_type": "code",
   "execution_count": 74,
   "metadata": {},
   "outputs": [
    {
     "name": "stdout",
     "output_type": "stream",
     "text": [
      "<class 'pandas.core.frame.DataFrame'>\n",
      "RangeIndex: 1776 entries, 0 to 1775\n",
      "Data columns (total 12 columns):\n",
      " #   Column                Non-Null Count  Dtype \n",
      "---  ------                --------------  ----- \n",
      " 0   Ekran Boyutu          1751 non-null   object\n",
      " 1   Ekran Kartı           1743 non-null   object\n",
      " 2   Ekran Yenileme Hızı   1727 non-null   object\n",
      " 3   Hard Disk Kapasitesi  1736 non-null   object\n",
      " 4   Ram (Sistem Belleği)  1743 non-null   object\n",
      " 5   SSD Kapasitesi        1751 non-null   object\n",
      " 6   Çözünürlük            1743 non-null   object\n",
      " 7   İşlemci Nesli         1736 non-null   object\n",
      " 8   İşlemci Tipi          1743 non-null   object\n",
      " 9   İşletim Sistemi       1743 non-null   object\n",
      " 10  url                   1776 non-null   object\n",
      " 11  price                 1776 non-null   object\n",
      "dtypes: object(12)\n",
      "memory usage: 166.6+ KB\n"
     ]
    }
   ],
   "source": [
    "data.info()"
   ]
  },
  {
   "cell_type": "code",
   "execution_count": 75,
   "metadata": {},
   "outputs": [
    {
     "data": {
      "text/html": [
       "<div>\n",
       "<style scoped>\n",
       "    .dataframe tbody tr th:only-of-type {\n",
       "        vertical-align: middle;\n",
       "    }\n",
       "\n",
       "    .dataframe tbody tr th {\n",
       "        vertical-align: top;\n",
       "    }\n",
       "\n",
       "    .dataframe thead th {\n",
       "        text-align: right;\n",
       "    }\n",
       "</style>\n",
       "<table border=\"1\" class=\"dataframe\">\n",
       "  <thead>\n",
       "    <tr style=\"text-align: right;\">\n",
       "      <th></th>\n",
       "      <th>Ekran Boyutu</th>\n",
       "      <th>Ekran Kartı</th>\n",
       "      <th>Ekran Yenileme Hızı</th>\n",
       "      <th>Hard Disk Kapasitesi</th>\n",
       "      <th>Ram (Sistem Belleği)</th>\n",
       "      <th>SSD Kapasitesi</th>\n",
       "      <th>Çözünürlük</th>\n",
       "      <th>İşlemci Nesli</th>\n",
       "      <th>İşlemci Tipi</th>\n",
       "      <th>İşletim Sistemi</th>\n",
       "      <th>url</th>\n",
       "      <th>price</th>\n",
       "    </tr>\n",
       "  </thead>\n",
       "  <tbody>\n",
       "    <tr>\n",
       "      <th>0</th>\n",
       "      <td>15,6 inç</td>\n",
       "      <td>Dahili Ekran Kartı</td>\n",
       "      <td>60 Hz</td>\n",
       "      <td>HDD Yok</td>\n",
       "      <td>4 GB</td>\n",
       "      <td>SSD Yok</td>\n",
       "      <td>1366 x 768</td>\n",
       "      <td>4. Nesil</td>\n",
       "      <td>Intel Celeron</td>\n",
       "      <td>Free Dos</td>\n",
       "      <td>https://www.trendyol.com//lenovo/ideapad1-inte...</td>\n",
       "      <td>6.799 TL</td>\n",
       "    </tr>\n",
       "    <tr>\n",
       "      <th>1</th>\n",
       "      <td>13 inç</td>\n",
       "      <td>M1 7 Çekirdekli</td>\n",
       "      <td>Belirtilmemiş</td>\n",
       "      <td>256 GB</td>\n",
       "      <td>16 GB</td>\n",
       "      <td>256 GB</td>\n",
       "      <td>2560 x 1600</td>\n",
       "      <td>Belirtilmemiş</td>\n",
       "      <td>Apple M1</td>\n",
       "      <td>Mac Os</td>\n",
       "      <td>https://www.trendyol.com//monster/abra-a5-v16-...</td>\n",
       "      <td>22.973,03 TL</td>\n",
       "    </tr>\n",
       "    <tr>\n",
       "      <th>2</th>\n",
       "      <td>15,6 inç</td>\n",
       "      <td>AMD Radeon Graphics</td>\n",
       "      <td>60 Hz</td>\n",
       "      <td>HDD Yok</td>\n",
       "      <td>16 GB</td>\n",
       "      <td>512 GB</td>\n",
       "      <td>1920 x 1080</td>\n",
       "      <td>5. Nesil</td>\n",
       "      <td>AMD Ryzen 7</td>\n",
       "      <td>Free Dos</td>\n",
       "      <td>https://www.trendyol.com//lenovo/ideapad-amd-r...</td>\n",
       "      <td>13.099 TL</td>\n",
       "    </tr>\n",
       "    <tr>\n",
       "      <th>3</th>\n",
       "      <td>15,6 inç</td>\n",
       "      <td>Nvidia GeForce RTX 2050</td>\n",
       "      <td>144 Hz</td>\n",
       "      <td>HDD Yok</td>\n",
       "      <td>8 GB</td>\n",
       "      <td>512 GB</td>\n",
       "      <td>1920 x 1080</td>\n",
       "      <td>11. Nesil</td>\n",
       "      <td>Intel Core i5</td>\n",
       "      <td>Free Dos</td>\n",
       "      <td>https://www.trendyol.com//asus/tuf-gaming-f15-...</td>\n",
       "      <td>24.750 TL</td>\n",
       "    </tr>\n",
       "    <tr>\n",
       "      <th>4</th>\n",
       "      <td>15,6 inç</td>\n",
       "      <td>Intel UHD Graphics</td>\n",
       "      <td>60 Hz</td>\n",
       "      <td>HDD Yok</td>\n",
       "      <td>4 GB</td>\n",
       "      <td>128 GB</td>\n",
       "      <td>1920 x 1080</td>\n",
       "      <td>2. Nesil</td>\n",
       "      <td>Intel Celeron</td>\n",
       "      <td>Linux</td>\n",
       "      <td>https://www.trendyol.com//acer/aspire3-intel-c...</td>\n",
       "      <td>6.290 TL</td>\n",
       "    </tr>\n",
       "    <tr>\n",
       "      <th>5</th>\n",
       "      <td>15,6 inç</td>\n",
       "      <td>AMD Radeon Graphics</td>\n",
       "      <td>60 Hz</td>\n",
       "      <td>HDD Yok</td>\n",
       "      <td>8 GB</td>\n",
       "      <td>256 GB</td>\n",
       "      <td>1920 x 1080</td>\n",
       "      <td>7. Nesil</td>\n",
       "      <td>AMD Ryzen 3</td>\n",
       "      <td>Free Dos</td>\n",
       "      <td>https://www.trendyol.com//acer/aspire-3-amd-ry...</td>\n",
       "      <td>8.999 TL</td>\n",
       "    </tr>\n",
       "    <tr>\n",
       "      <th>6</th>\n",
       "      <td>15,6 inç</td>\n",
       "      <td>AMD Radeon Graphics</td>\n",
       "      <td>60 Hz</td>\n",
       "      <td>HDD Yok</td>\n",
       "      <td>8 GB</td>\n",
       "      <td>256 GB</td>\n",
       "      <td>1920 x 1080</td>\n",
       "      <td>7. Nesil</td>\n",
       "      <td>AMD Athlon</td>\n",
       "      <td>Free Dos</td>\n",
       "      <td>https://www.trendyol.com//lenovo/v15-82yu00met...</td>\n",
       "      <td>8.199 TL</td>\n",
       "    </tr>\n",
       "    <tr>\n",
       "      <th>7</th>\n",
       "      <td>15,6 inç</td>\n",
       "      <td>Nvidia GeForce RTX 3050</td>\n",
       "      <td>144 Hz</td>\n",
       "      <td>HDD Yok</td>\n",
       "      <td>16 GB</td>\n",
       "      <td>512 GB</td>\n",
       "      <td>1920 x 1080</td>\n",
       "      <td>12. Nesil</td>\n",
       "      <td>Intel Core i7</td>\n",
       "      <td>Windows</td>\n",
       "      <td>https://www.trendyol.com//msi/thin-gf63-12uc-6...</td>\n",
       "      <td>31.679,99 TL</td>\n",
       "    </tr>\n",
       "    <tr>\n",
       "      <th>8</th>\n",
       "      <td>15,6 inç</td>\n",
       "      <td>Intel Iris Graphics</td>\n",
       "      <td>Belirtilmemiş</td>\n",
       "      <td>256 GB</td>\n",
       "      <td>8 GB</td>\n",
       "      <td>256 GB</td>\n",
       "      <td>1920 x 1080</td>\n",
       "      <td>11. Nesil</td>\n",
       "      <td>Intel Core i5</td>\n",
       "      <td>Windows</td>\n",
       "      <td>https://www.trendyol.com//huawei/matebook-d15-...</td>\n",
       "      <td>14.380 TL</td>\n",
       "    </tr>\n",
       "    <tr>\n",
       "      <th>9</th>\n",
       "      <td>15,6 inç</td>\n",
       "      <td>Intel UHD Graphics 600</td>\n",
       "      <td>60 Hz</td>\n",
       "      <td>HDD Yok</td>\n",
       "      <td>4 GB</td>\n",
       "      <td>120 GB</td>\n",
       "      <td>1366 x 768</td>\n",
       "      <td>Belirtilmemiş</td>\n",
       "      <td>Intel Celeron</td>\n",
       "      <td>Windows</td>\n",
       "      <td>https://www.trendyol.com//casper/nirvana-c370-...</td>\n",
       "      <td>6.939 TL</td>\n",
       "    </tr>\n",
       "  </tbody>\n",
       "</table>\n",
       "</div>"
      ],
      "text/plain": [
       "  Ekran Boyutu              Ekran Kartı Ekran Yenileme Hızı  \\\n",
       "0     15,6 inç       Dahili Ekran Kartı               60 Hz   \n",
       "1       13 inç          M1 7 Çekirdekli       Belirtilmemiş   \n",
       "2     15,6 inç      AMD Radeon Graphics               60 Hz   \n",
       "3     15,6 inç  Nvidia GeForce RTX 2050              144 Hz   \n",
       "4     15,6 inç       Intel UHD Graphics               60 Hz   \n",
       "5     15,6 inç      AMD Radeon Graphics               60 Hz   \n",
       "6     15,6 inç      AMD Radeon Graphics               60 Hz   \n",
       "7     15,6 inç  Nvidia GeForce RTX 3050              144 Hz   \n",
       "8     15,6 inç      Intel Iris Graphics       Belirtilmemiş   \n",
       "9     15,6 inç   Intel UHD Graphics 600               60 Hz   \n",
       "\n",
       "  Hard Disk Kapasitesi Ram (Sistem Belleği) SSD Kapasitesi   Çözünürlük  \\\n",
       "0              HDD Yok                 4 GB        SSD Yok   1366 x 768   \n",
       "1               256 GB                16 GB         256 GB  2560 x 1600   \n",
       "2              HDD Yok                16 GB         512 GB  1920 x 1080   \n",
       "3              HDD Yok                 8 GB         512 GB  1920 x 1080   \n",
       "4              HDD Yok                 4 GB         128 GB  1920 x 1080   \n",
       "5              HDD Yok                 8 GB         256 GB  1920 x 1080   \n",
       "6              HDD Yok                 8 GB         256 GB  1920 x 1080   \n",
       "7              HDD Yok                16 GB         512 GB  1920 x 1080   \n",
       "8               256 GB                 8 GB         256 GB  1920 x 1080   \n",
       "9              HDD Yok                 4 GB         120 GB   1366 x 768   \n",
       "\n",
       "   İşlemci Nesli   İşlemci Tipi İşletim Sistemi  \\\n",
       "0       4. Nesil  Intel Celeron        Free Dos   \n",
       "1  Belirtilmemiş       Apple M1          Mac Os   \n",
       "2       5. Nesil    AMD Ryzen 7        Free Dos   \n",
       "3      11. Nesil  Intel Core i5        Free Dos   \n",
       "4       2. Nesil  Intel Celeron           Linux   \n",
       "5       7. Nesil    AMD Ryzen 3        Free Dos   \n",
       "6       7. Nesil     AMD Athlon        Free Dos   \n",
       "7      12. Nesil  Intel Core i7         Windows   \n",
       "8      11. Nesil  Intel Core i5         Windows   \n",
       "9  Belirtilmemiş  Intel Celeron         Windows   \n",
       "\n",
       "                                                 url         price  \n",
       "0  https://www.trendyol.com//lenovo/ideapad1-inte...      6.799 TL  \n",
       "1  https://www.trendyol.com//monster/abra-a5-v16-...  22.973,03 TL  \n",
       "2  https://www.trendyol.com//lenovo/ideapad-amd-r...     13.099 TL  \n",
       "3  https://www.trendyol.com//asus/tuf-gaming-f15-...     24.750 TL  \n",
       "4  https://www.trendyol.com//acer/aspire3-intel-c...      6.290 TL  \n",
       "5  https://www.trendyol.com//acer/aspire-3-amd-ry...      8.999 TL  \n",
       "6  https://www.trendyol.com//lenovo/v15-82yu00met...      8.199 TL  \n",
       "7  https://www.trendyol.com//msi/thin-gf63-12uc-6...  31.679,99 TL  \n",
       "8  https://www.trendyol.com//huawei/matebook-d15-...     14.380 TL  \n",
       "9  https://www.trendyol.com//casper/nirvana-c370-...      6.939 TL  "
      ]
     },
     "execution_count": 75,
     "metadata": {},
     "output_type": "execute_result"
    }
   ],
   "source": [
    "data.head(10)"
   ]
  },
  {
   "cell_type": "code",
   "execution_count": 76,
   "metadata": {},
   "outputs": [
    {
     "data": {
      "image/png": "[encoded data removed]",
      "text/plain": [
       "<Figure size 1600x1600 with 1 Axes>"
      ]
     },
     "metadata": {},
     "output_type": "display_data"
    }
   ],
   "source": [
    "plt.figure(figsize=(16,16))\n",
    "plt.subplot(2,1,1)\n",
    "sns.countplot(x='Ekran Boyutu',data = data,order = data['Ekran Boyutu'].value_counts().index)\n",
    "plt.xticks(rotation = 90)\n",
    "plt.show()"
   ]
  },
  {
   "cell_type": "code",
   "execution_count": 77,
   "metadata": {},
   "outputs": [
    {
     "data": {
      "image/png": "[encoded data removed]",
      "text/plain": [
       "<Figure size 1600x1600 with 1 Axes>"
      ]
     },
     "metadata": {},
     "output_type": "display_data"
    }
   ],
   "source": [
    "plt.figure(figsize=(16,16))\n",
    "plt.subplot(2,1,1)\n",
    "sns.countplot(x='Ekran Kartı',data = data,order = data['Ekran Kartı'].value_counts().index)\n",
    "plt.xticks(rotation = 90)\n",
    "plt.show()"
   ]
  },
  {
   "cell_type": "code",
   "execution_count": 78,
   "metadata": {},
   "outputs": [
    {
     "data": {
      "image/png": "[encoded data removed]",
      "text/plain": [
       "<Figure size 1600x1600 with 1 Axes>"
      ]
     },
     "metadata": {},
     "output_type": "display_data"
    }
   ],
   "source": [
    "plt.figure(figsize=(16,16))\n",
    "plt.subplot(2,1,1)\n",
    "sns.countplot(x='İşlemci Tipi',data = data,order = data['İşlemci Tipi'].value_counts().index)\n",
    "plt.xticks(rotation = 90)\n",
    "plt.show()"
   ]
  },
  {
   "cell_type": "code",
   "execution_count": 135,
   "metadata": {},
   "outputs": [],
   "source": [
    "data=data.rename(columns = {'Ekran Boyutu':'Ekran_Boyutu','Ekran Kartı':'Ekran_Karti','Ekran Yenileme Hızı':'Ekran_Yenileme_Hizi','Hard Disk Kapasitesi':'Hard_Disk_Kapasitesi',\n",
    "                           'Ram (Sistem Belleği)':'Ram','SSD Kapasitesi':'SSD_Kapasitesi','Çözünürlük':'Cozunurluk','İşlemci Nesli':'Islemci_Nesli','İşlemci Tipi':'Islemci_Tipi','İşletim Sistemi':'Isletim_Sistemi'})"
   ]
  },
  {
   "cell_type": "code",
   "execution_count": 136,
   "metadata": {},
   "outputs": [
    {
     "name": "stdout",
     "output_type": "stream",
     "text": [
      "<class 'pandas.core.frame.DataFrame'>\n",
      "RangeIndex: 1776 entries, 0 to 1775\n",
      "Data columns (total 12 columns):\n",
      " #   Column                Non-Null Count  Dtype \n",
      "---  ------                --------------  ----- \n",
      " 0   Ekran_Boyutu          1751 non-null   object\n",
      " 1   Ekran_Karti           1743 non-null   object\n",
      " 2   Ekran_Yenileme_Hizi   1727 non-null   object\n",
      " 3   Hard_Disk_Kapasitesi  1736 non-null   object\n",
      " 4   Ram                   1743 non-null   object\n",
      " 5   SSD_Kapasitesi        1751 non-null   object\n",
      " 6   Cozunurluk            1743 non-null   object\n",
      " 7   Islemci_Nesli         1736 non-null   object\n",
      " 8   Islemci_Tipi          1743 non-null   object\n",
      " 9   Isletim_Sistemi       1743 non-null   object\n",
      " 10  url                   1776 non-null   object\n",
      " 11  price                 1776 non-null   object\n",
      "dtypes: object(12)\n",
      "memory usage: 166.6+ KB\n"
     ]
    }
   ],
   "source": [
    "data.info()"
   ]
  },
  {
   "cell_type": "code",
   "execution_count": 137,
   "metadata": {},
   "outputs": [],
   "source": [
    "for i in range(0,100):\n",
    "    data[\"price\"] = data.price.str.replace(',{}'.format(i), '')\n",
    "\n",
    "data[\"price\"] = data.price.str.replace(',00'.format(i), '')\n",
    "data[\"price\"] = data.price.str.replace(',01'.format(i), '')\n",
    "data[\"price\"] = data.price.str.replace(',02'.format(i), '')\n",
    "data[\"price\"] = data.price.str.replace(',03'.format(i), '')\n",
    "data[\"price\"] = data.price.str.replace(',04'.format(i), '')\n",
    "data[\"price\"] = data.price.str.replace(',05'.format(i), '')\n",
    "data[\"price\"] = data.price.str.replace(',06'.format(i), '')\n",
    "data[\"price\"] = data.price.str.replace(',07'.format(i), '')\n",
    "data[\"price\"] = data.price.str.replace(',08'.format(i), '')\n",
    "data[\"price\"] = data.price.str.replace(',09'.format(i), '')\n",
    "data[\"price\"] = data.price.replace('.', '')"
   ]
  },
  {
   "cell_type": "code",
   "execution_count": 138,
   "metadata": {},
   "outputs": [],
   "source": [
    "data[\"price\"] = data.price.str.replace('TL', '')"
   ]
  },
  {
   "cell_type": "code",
   "execution_count": 139,
   "metadata": {},
   "outputs": [],
   "source": [
    "data[\"price\"] = data.price.astype(float)"
   ]
  },
  {
   "cell_type": "code",
   "execution_count": 140,
   "metadata": {},
   "outputs": [
    {
     "data": {
      "text/plain": [
       "0        6.7990\n",
       "1       22.9733\n",
       "2       13.0990\n",
       "3       24.7500\n",
       "4        6.2900\n",
       "         ...   \n",
       "1771    21.9990\n",
       "1772    52.0990\n",
       "1773    25.0228\n",
       "1774    16.1536\n",
       "1775    16.0990\n",
       "Name: price, Length: 1776, dtype: float64"
      ]
     },
     "execution_count": 140,
     "metadata": {},
     "output_type": "execute_result"
    }
   ],
   "source": [
    "data[\"price\"]"
   ]
  },
  {
   "cell_type": "code",
   "execution_count": 141,
   "metadata": {},
   "outputs": [
    {
     "data": {
      "text/plain": [
       "0       15,6 inç\n",
       "1         13 inç\n",
       "2       15,6 inç\n",
       "3       15,6 inç\n",
       "4       15,6 inç\n",
       "          ...   \n",
       "1771    15,6 inç\n",
       "1772      16 inç\n",
       "1773    15,6 inç\n",
       "1774    15,6 inç\n",
       "1775    15,6 inç\n",
       "Name: Ekran_Boyutu, Length: 1776, dtype: object"
      ]
     },
     "execution_count": 141,
     "metadata": {},
     "output_type": "execute_result"
    }
   ],
   "source": [
    "data[\"Ekran_Boyutu\"]"
   ]
  },
  {
   "cell_type": "code",
   "execution_count": 142,
   "metadata": {},
   "outputs": [],
   "source": [
    "data[\"Ekran_Boyutu\"] = data.Ekran_Boyutu.str.replace('inç', '')"
   ]
  },
  {
   "cell_type": "code",
   "execution_count": 143,
   "metadata": {},
   "outputs": [],
   "source": [
    "data[\"Ekran_Boyutu\"] = data.Ekran_Boyutu.str.replace(' inÃ§', '')"
   ]
  },
  {
   "cell_type": "code",
   "execution_count": 144,
   "metadata": {},
   "outputs": [],
   "source": [
    "data[\"Ekran_Boyutu\"] = data.Ekran_Boyutu.str.replace('Belirtilmemiş', '15.6')"
   ]
  },
  {
   "cell_type": "code",
   "execution_count": 145,
   "metadata": {},
   "outputs": [],
   "source": [
    "data[\"Ekran_Boyutu\"] = data.Ekran_Boyutu.str.replace(',', '.')"
   ]
  },
  {
   "cell_type": "code",
   "execution_count": 146,
   "metadata": {},
   "outputs": [],
   "source": [
    "data[\"Ekran_Boyutu\"] = data.Ekran_Boyutu.astype(float)"
   ]
  },
  {
   "cell_type": "code",
   "execution_count": 147,
   "metadata": {},
   "outputs": [
    {
     "data": {
      "text/plain": [
       "0       15.6\n",
       "1       13.0\n",
       "2       15.6\n",
       "3       15.6\n",
       "4       15.6\n",
       "        ... \n",
       "1771    15.6\n",
       "1772    16.0\n",
       "1773    15.6\n",
       "1774    15.6\n",
       "1775    15.6\n",
       "Name: Ekran_Boyutu, Length: 1776, dtype: float64"
      ]
     },
     "execution_count": 147,
     "metadata": {},
     "output_type": "execute_result"
    }
   ],
   "source": [
    "data[\"Ekran_Boyutu\"]"
   ]
  },
  {
   "cell_type": "code",
   "execution_count": 148,
   "metadata": {},
   "outputs": [
    {
     "ename": "NameError",
     "evalue": "name 'Ekran_Karti' is not defined",
     "output_type": "error",
     "traceback": [
      "\u001b[1;31m---------------------------------------------------------------------------\u001b[0m",
      "\u001b[1;31mNameError\u001b[0m                                 Traceback (most recent call last)",
      "Cell \u001b[1;32mIn[148], line 1\u001b[0m\n\u001b[1;32m----> 1\u001b[0m Ekran_Karti\n",
      "\u001b[1;31mNameError\u001b[0m: name 'Ekran_Karti' is not defined"
     ]
    }
   ],
   "source": [
    "Ekran_Karti"
   ]
  },
  {
   "cell_type": "code",
   "execution_count": 93,
   "metadata": {},
   "outputs": [
    {
     "data": {
      "text/plain": [
       "0            Dahili Ekran Kartı\n",
       "1               M1 7 Çekirdekli\n",
       "2           AMD Radeon Graphics\n",
       "3       Nvidia GeForce RTX 2050\n",
       "4            Intel UHD Graphics\n",
       "                 ...           \n",
       "1771        Intel Iris Graphics\n",
       "1772    Nvidia GeForce RTX 4050\n",
       "1773         Intel UHD Graphics\n",
       "1774       Nvidia GeForce MX350\n",
       "1775        Intel Iris Graphics\n",
       "Name: Ekran_Karti, Length: 1776, dtype: object"
      ]
     },
     "execution_count": 93,
     "metadata": {},
     "output_type": "execute_result"
    }
   ],
   "source": [
    "data[\"Ekran_Karti\"]"
   ]
  },
  {
   "cell_type": "code",
   "execution_count": 150,
   "metadata": {},
   "outputs": [
    {
     "data": {
      "text/plain": [
       "0               60 Hz\n",
       "1       Belirtilmemiş\n",
       "2               60 Hz\n",
       "3              144 Hz\n",
       "4               60 Hz\n",
       "            ...      \n",
       "1771           240 Hz\n",
       "1772           120 Hz\n",
       "1773            60 Hz\n",
       "1774            60 Hz\n",
       "1775            60 Hz\n",
       "Name: Ekran_Yenileme_Hizi, Length: 1776, dtype: object"
      ]
     },
     "execution_count": 150,
     "metadata": {},
     "output_type": "execute_result"
    }
   ],
   "source": [
    "data[\"Ekran_Yenileme_Hizi\"]"
   ]
  },
  {
   "cell_type": "code",
   "execution_count": 151,
   "metadata": {},
   "outputs": [],
   "source": [
    "data[\"Ekran_Yenileme_Hizi\"] = data.Ekran_Yenileme_Hizi.str.replace('Hz', '')"
   ]
  },
  {
   "cell_type": "code",
   "execution_count": 152,
   "metadata": {},
   "outputs": [],
   "source": [
    "data[\"Ekran_Yenileme_Hizi\"] = data.Ekran_Yenileme_Hizi.str.replace('Belirtilmemiş', '60')"
   ]
  },
  {
   "cell_type": "code",
   "execution_count": 153,
   "metadata": {},
   "outputs": [],
   "source": [
    "data[\"Ekran_Yenileme_Hizi\"] = data.Ekran_Yenileme_Hizi.str.replace('Yok', '60')"
   ]
  },
  {
   "cell_type": "code",
   "execution_count": 154,
   "metadata": {},
   "outputs": [],
   "source": [
    "data[\"Ekran_Yenileme_Hizi\"] = data.Ekran_Yenileme_Hizi.astype(float)"
   ]
  },
  {
   "cell_type": "code",
   "execution_count": 155,
   "metadata": {},
   "outputs": [
    {
     "data": {
      "text/plain": [
       "0        60.0\n",
       "1        60.0\n",
       "2        60.0\n",
       "3       144.0\n",
       "4        60.0\n",
       "        ...  \n",
       "1771    240.0\n",
       "1772    120.0\n",
       "1773     60.0\n",
       "1774     60.0\n",
       "1775     60.0\n",
       "Name: Ekran_Yenileme_Hizi, Length: 1776, dtype: float64"
      ]
     },
     "execution_count": 155,
     "metadata": {},
     "output_type": "execute_result"
    }
   ],
   "source": [
    "data[\"Ekran_Yenileme_Hizi\"]"
   ]
  },
  {
   "cell_type": "code",
   "execution_count": 156,
   "metadata": {},
   "outputs": [
    {
     "data": {
      "text/plain": [
       "0       HDD Yok\n",
       "1        256 GB\n",
       "2       HDD Yok\n",
       "3       HDD Yok\n",
       "4       HDD Yok\n",
       "         ...   \n",
       "1771    HDD Yok\n",
       "1772    HDD Yok\n",
       "1773    HDD Yok\n",
       "1774       1 TB\n",
       "1775        Yok\n",
       "Name: Hard_Disk_Kapasitesi, Length: 1776, dtype: object"
      ]
     },
     "execution_count": 156,
     "metadata": {},
     "output_type": "execute_result"
    }
   ],
   "source": [
    "data[\"Hard_Disk_Kapasitesi\"]"
   ]
  },
  {
   "cell_type": "code",
   "execution_count": 157,
   "metadata": {},
   "outputs": [],
   "source": [
    "data[\"Hard_Disk_Kapasitesi\"] = data.Hard_Disk_Kapasitesi.str.replace('HDD Yok', '0')"
   ]
  },
  {
   "cell_type": "code",
   "execution_count": 158,
   "metadata": {},
   "outputs": [],
   "source": [
    "data[\"Hard_Disk_Kapasitesi\"] = data.Hard_Disk_Kapasitesi.str.replace('GB', '')"
   ]
  },
  {
   "cell_type": "code",
   "execution_count": 159,
   "metadata": {},
   "outputs": [],
   "source": [
    "data[\"Hard_Disk_Kapasitesi\"] = data.Hard_Disk_Kapasitesi.str.replace('TB', '')"
   ]
  },
  {
   "cell_type": "code",
   "execution_count": 160,
   "metadata": {},
   "outputs": [],
   "source": [
    "data[\"Hard_Disk_Kapasitesi\"] = data.Hard_Disk_Kapasitesi.str.replace('Yok', '0')"
   ]
  },
  {
   "cell_type": "code",
   "execution_count": 161,
   "metadata": {},
   "outputs": [],
   "source": [
    "data[\"Hard_Disk_Kapasitesi\"] = data.Hard_Disk_Kapasitesi.astype(float)"
   ]
  },
  {
   "cell_type": "code",
   "execution_count": 162,
   "metadata": {},
   "outputs": [
    {
     "data": {
      "text/plain": [
       "0         0.0\n",
       "1       256.0\n",
       "2         0.0\n",
       "3         0.0\n",
       "4         0.0\n",
       "        ...  \n",
       "1771      0.0\n",
       "1772      0.0\n",
       "1773      0.0\n",
       "1774      1.0\n",
       "1775      0.0\n",
       "Name: Hard_Disk_Kapasitesi, Length: 1776, dtype: float64"
      ]
     },
     "execution_count": 162,
     "metadata": {},
     "output_type": "execute_result"
    }
   ],
   "source": [
    "data[\"Hard_Disk_Kapasitesi\"]"
   ]
  },
  {
   "cell_type": "code",
   "execution_count": 163,
   "metadata": {},
   "outputs": [
    {
     "data": {
      "text/plain": [
       "0        4 GB\n",
       "1       16 GB\n",
       "2       16 GB\n",
       "3        8 GB\n",
       "4        4 GB\n",
       "        ...  \n",
       "1771    16 GB\n",
       "1772    32 GB\n",
       "1773    16 GB\n",
       "1774     8 GB\n",
       "1775    20 GB\n",
       "Name: Ram, Length: 1776, dtype: object"
      ]
     },
     "execution_count": 163,
     "metadata": {},
     "output_type": "execute_result"
    }
   ],
   "source": [
    "data[\"Ram\"]"
   ]
  },
  {
   "cell_type": "code",
   "execution_count": 164,
   "metadata": {},
   "outputs": [],
   "source": [
    "data[\"Ram\"] = data.Ram.str.replace('GB', '')"
   ]
  },
  {
   "cell_type": "code",
   "execution_count": 165,
   "metadata": {},
   "outputs": [],
   "source": [
    "data[\"Hard_Disk_Kapasitesi\"] = data.Hard_Disk_Kapasitesi.astype(float)"
   ]
  },
  {
   "cell_type": "code",
   "execution_count": 166,
   "metadata": {},
   "outputs": [
    {
     "data": {
      "text/plain": [
       "0        4 \n",
       "1       16 \n",
       "2       16 \n",
       "3        8 \n",
       "4        4 \n",
       "       ... \n",
       "1771    16 \n",
       "1772    32 \n",
       "1773    16 \n",
       "1774     8 \n",
       "1775    20 \n",
       "Name: Ram, Length: 1776, dtype: object"
      ]
     },
     "execution_count": 166,
     "metadata": {},
     "output_type": "execute_result"
    }
   ],
   "source": [
    "data[\"Ram\"]"
   ]
  },
  {
   "cell_type": "code",
   "execution_count": 115,
   "metadata": {},
   "outputs": [
    {
     "ename": "NameError",
     "evalue": "name 'SSD_Kapasitesi' is not defined",
     "output_type": "error",
     "traceback": [
      "\u001b[1;31m---------------------------------------------------------------------------\u001b[0m",
      "\u001b[1;31mNameError\u001b[0m                                 Traceback (most recent call last)",
      "Cell \u001b[1;32mIn[115], line 1\u001b[0m\n\u001b[1;32m----> 1\u001b[0m SSD_Kapasitesi\n",
      "\u001b[1;31mNameError\u001b[0m: name 'SSD_Kapasitesi' is not defined"
     ]
    }
   ],
   "source": [
    "SSD_Kapasitesi"
   ]
  },
  {
   "cell_type": "code",
   "execution_count": 167,
   "metadata": {},
   "outputs": [
    {
     "data": {
      "text/plain": [
       "0       SSD Yok\n",
       "1        256 GB\n",
       "2        512 GB\n",
       "3        512 GB\n",
       "4        128 GB\n",
       "         ...   \n",
       "1771     512 GB\n",
       "1772       2 TB\n",
       "1773       1 TB\n",
       "1774     256 GB\n",
       "1775       1 TB\n",
       "Name: SSD_Kapasitesi, Length: 1776, dtype: object"
      ]
     },
     "execution_count": 167,
     "metadata": {},
     "output_type": "execute_result"
    }
   ],
   "source": [
    "data[\"SSD_Kapasitesi\"]"
   ]
  },
  {
   "cell_type": "code",
   "execution_count": 168,
   "metadata": {},
   "outputs": [],
   "source": [
    "data[\"SSD_Kapasitesi\"] = data.SSD_Kapasitesi.str.replace('GB', '')"
   ]
  },
  {
   "cell_type": "code",
   "execution_count": 169,
   "metadata": {},
   "outputs": [],
   "source": [
    "data[\"SSD_Kapasitesi\"] = data.SSD_Kapasitesi.str.replace('TB', '')"
   ]
  },
  {
   "cell_type": "code",
   "execution_count": 170,
   "metadata": {},
   "outputs": [],
   "source": [
    "data[\"SSD_Kapasitesi\"] = data.SSD_Kapasitesi.str.replace('SSD Yok', '0')"
   ]
  },
  {
   "cell_type": "code",
   "execution_count": 171,
   "metadata": {},
   "outputs": [],
   "source": [
    "data[\"SSD_Kapasitesi\"] = data.SSD_Kapasitesi.str.replace('Yok', '0')"
   ]
  },
  {
   "cell_type": "code",
   "execution_count": 172,
   "metadata": {},
   "outputs": [],
   "source": [
    "data[\"SSD_Kapasitesi\"] = data.SSD_Kapasitesi.astype(float)"
   ]
  },
  {
   "cell_type": "code",
   "execution_count": 173,
   "metadata": {},
   "outputs": [
    {
     "data": {
      "text/plain": [
       "0         0.0\n",
       "1       256.0\n",
       "2       512.0\n",
       "3       512.0\n",
       "4       128.0\n",
       "        ...  \n",
       "1771    512.0\n",
       "1772      2.0\n",
       "1773      1.0\n",
       "1774    256.0\n",
       "1775      1.0\n",
       "Name: SSD_Kapasitesi, Length: 1776, dtype: float64"
      ]
     },
     "execution_count": 173,
     "metadata": {},
     "output_type": "execute_result"
    }
   ],
   "source": [
    "data[\"SSD_Kapasitesi\"]"
   ]
  },
  {
   "cell_type": "code",
   "execution_count": 174,
   "metadata": {},
   "outputs": [
    {
     "data": {
      "text/plain": [
       "0        1366 x 768\n",
       "1       2560 x 1600\n",
       "2       1920 x 1080\n",
       "3       1920 x 1080\n",
       "4       1920 x 1080\n",
       "           ...     \n",
       "1771    1920 x 1080\n",
       "1772    1920 x 1200\n",
       "1773    1920 x 1080\n",
       "1774    1920 x 1080\n",
       "1775    1920 x 1080\n",
       "Name: Cozunurluk, Length: 1776, dtype: object"
      ]
     },
     "execution_count": 174,
     "metadata": {},
     "output_type": "execute_result"
    }
   ],
   "source": [
    "data[\"Cozunurluk\"]"
   ]
  },
  {
   "cell_type": "code",
   "execution_count": null,
   "metadata": {},
   "outputs": [],
   "source": [
    "Islemci_Nesli"
   ]
  },
  {
   "cell_type": "code",
   "execution_count": 54,
   "metadata": {},
   "outputs": [
    {
     "data": {
      "text/plain": [
       "0            4. Nesil\n",
       "1       Belirtilmemiş\n",
       "2            5. Nesil\n",
       "3           11. Nesil\n",
       "4            2. Nesil\n",
       "            ...      \n",
       "1771        12. Nesil\n",
       "1772        13. Nesil\n",
       "1773        12. Nesil\n",
       "1774        11. Nesil\n",
       "1775        11. Nesil\n",
       "Name: Islemci_Nesli, Length: 1776, dtype: object"
      ]
     },
     "execution_count": 54,
     "metadata": {},
     "output_type": "execute_result"
    }
   ],
   "source": [
    "data[\"Islemci_Nesli\"]"
   ]
  },
  {
   "cell_type": "code",
   "execution_count": 182,
   "metadata": {},
   "outputs": [
    {
     "name": "stderr",
     "output_type": "stream",
     "text": [
      "C:\\Users\\veli1\\AppData\\Local\\Temp\\ipykernel_15664\\3754129100.py:1: FutureWarning: The default value of regex will change from True to False in a future version.\n",
      "  data[\"Islemci_Nesli\"] = data.Islemci_Nesli.str.replace('. Nesil', '')\n"
     ]
    }
   ],
   "source": [
    "data[\"Islemci_Nesli\"] = data.Islemci_Nesli.str.replace('. Nesil', '')"
   ]
  },
  {
   "cell_type": "code",
   "execution_count": 183,
   "metadata": {},
   "outputs": [],
   "source": [
    "data[\"Islemci_Nesli\"] = data.Islemci_Nesli.str.replace('Belirtilmemiş', '13')"
   ]
  },
  {
   "cell_type": "code",
   "execution_count": 184,
   "metadata": {},
   "outputs": [],
   "source": [
    "data[\"Islemci_Nesli\"] = data.Islemci_Nesli.str.replace('NaN', '13')"
   ]
  },
  {
   "cell_type": "code",
   "execution_count": 187,
   "metadata": {},
   "outputs": [],
   "source": [
    "data[\"Islemci_Nesli\"] = data.Islemci_Nesli.str.replace('M1', '13')"
   ]
  },
  {
   "cell_type": "code",
   "execution_count": 189,
   "metadata": {},
   "outputs": [],
   "source": [
    "data[\"Islemci_Nesli\"] = data.Islemci_Nesli.str.replace('Yok', '13')"
   ]
  },
  {
   "cell_type": "code",
   "execution_count": 191,
   "metadata": {},
   "outputs": [],
   "source": [
    "data[\"Islemci_Nesli\"] = data.Islemci_Nesli.str.replace('Ryzen', '10')"
   ]
  },
  {
   "cell_type": "code",
   "execution_count": 192,
   "metadata": {},
   "outputs": [],
   "source": [
    "data[\"Islemci_Nesli\"] = data.Islemci_Nesli.astype(float)"
   ]
  },
  {
   "cell_type": "code",
   "execution_count": 193,
   "metadata": {},
   "outputs": [
    {
     "data": {
      "text/plain": [
       "0        4.0\n",
       "1       13.0\n",
       "2        5.0\n",
       "3       11.0\n",
       "4        2.0\n",
       "        ... \n",
       "1771    12.0\n",
       "1772    13.0\n",
       "1773    12.0\n",
       "1774    11.0\n",
       "1775    11.0\n",
       "Name: Islemci_Nesli, Length: 1776, dtype: float64"
      ]
     },
     "execution_count": 193,
     "metadata": {},
     "output_type": "execute_result"
    }
   ],
   "source": [
    "data[\"Islemci_Nesli\"]"
   ]
  },
  {
   "cell_type": "code",
   "execution_count": 194,
   "metadata": {},
   "outputs": [
    {
     "data": {
      "text/html": [
       "<div>\n",
       "<style scoped>\n",
       "    .dataframe tbody tr th:only-of-type {\n",
       "        vertical-align: middle;\n",
       "    }\n",
       "\n",
       "    .dataframe tbody tr th {\n",
       "        vertical-align: top;\n",
       "    }\n",
       "\n",
       "    .dataframe thead th {\n",
       "        text-align: right;\n",
       "    }\n",
       "</style>\n",
       "<table border=\"1\" class=\"dataframe\">\n",
       "  <thead>\n",
       "    <tr style=\"text-align: right;\">\n",
       "      <th></th>\n",
       "      <th>Ekran_Boyutu</th>\n",
       "      <th>Ekran_Karti</th>\n",
       "      <th>Ekran_Yenileme_Hizi</th>\n",
       "      <th>Hard_Disk_Kapasitesi</th>\n",
       "      <th>Ram</th>\n",
       "      <th>SSD_Kapasitesi</th>\n",
       "      <th>Cozunurluk</th>\n",
       "      <th>Islemci_Nesli</th>\n",
       "      <th>Islemci_Tipi</th>\n",
       "      <th>Isletim_Sistemi</th>\n",
       "      <th>url</th>\n",
       "      <th>price</th>\n",
       "    </tr>\n",
       "  </thead>\n",
       "  <tbody>\n",
       "    <tr>\n",
       "      <th>0</th>\n",
       "      <td>15.6</td>\n",
       "      <td>Dahili Ekran Kartı</td>\n",
       "      <td>60.0</td>\n",
       "      <td>0.0</td>\n",
       "      <td>4</td>\n",
       "      <td>0.0</td>\n",
       "      <td>1366 x 768</td>\n",
       "      <td>4.0</td>\n",
       "      <td>Intel Celeron</td>\n",
       "      <td>Free Dos</td>\n",
       "      <td>https://www.trendyol.com//lenovo/ideapad1-inte...</td>\n",
       "      <td>6.7990</td>\n",
       "    </tr>\n",
       "    <tr>\n",
       "      <th>1</th>\n",
       "      <td>13.0</td>\n",
       "      <td>M1 7 Çekirdekli</td>\n",
       "      <td>60.0</td>\n",
       "      <td>256.0</td>\n",
       "      <td>16</td>\n",
       "      <td>256.0</td>\n",
       "      <td>2560 x 1600</td>\n",
       "      <td>13.0</td>\n",
       "      <td>Apple M1</td>\n",
       "      <td>Mac Os</td>\n",
       "      <td>https://www.trendyol.com//monster/abra-a5-v16-...</td>\n",
       "      <td>22.9733</td>\n",
       "    </tr>\n",
       "    <tr>\n",
       "      <th>2</th>\n",
       "      <td>15.6</td>\n",
       "      <td>AMD Radeon Graphics</td>\n",
       "      <td>60.0</td>\n",
       "      <td>0.0</td>\n",
       "      <td>16</td>\n",
       "      <td>512.0</td>\n",
       "      <td>1920 x 1080</td>\n",
       "      <td>5.0</td>\n",
       "      <td>AMD Ryzen 7</td>\n",
       "      <td>Free Dos</td>\n",
       "      <td>https://www.trendyol.com//lenovo/ideapad-amd-r...</td>\n",
       "      <td>13.0990</td>\n",
       "    </tr>\n",
       "    <tr>\n",
       "      <th>3</th>\n",
       "      <td>15.6</td>\n",
       "      <td>Nvidia GeForce RTX 2050</td>\n",
       "      <td>144.0</td>\n",
       "      <td>0.0</td>\n",
       "      <td>8</td>\n",
       "      <td>512.0</td>\n",
       "      <td>1920 x 1080</td>\n",
       "      <td>11.0</td>\n",
       "      <td>Intel Core i5</td>\n",
       "      <td>Free Dos</td>\n",
       "      <td>https://www.trendyol.com//asus/tuf-gaming-f15-...</td>\n",
       "      <td>24.7500</td>\n",
       "    </tr>\n",
       "    <tr>\n",
       "      <th>4</th>\n",
       "      <td>15.6</td>\n",
       "      <td>Intel UHD Graphics</td>\n",
       "      <td>60.0</td>\n",
       "      <td>0.0</td>\n",
       "      <td>4</td>\n",
       "      <td>128.0</td>\n",
       "      <td>1920 x 1080</td>\n",
       "      <td>2.0</td>\n",
       "      <td>Intel Celeron</td>\n",
       "      <td>Linux</td>\n",
       "      <td>https://www.trendyol.com//acer/aspire3-intel-c...</td>\n",
       "      <td>6.2900</td>\n",
       "    </tr>\n",
       "    <tr>\n",
       "      <th>...</th>\n",
       "      <td>...</td>\n",
       "      <td>...</td>\n",
       "      <td>...</td>\n",
       "      <td>...</td>\n",
       "      <td>...</td>\n",
       "      <td>...</td>\n",
       "      <td>...</td>\n",
       "      <td>...</td>\n",
       "      <td>...</td>\n",
       "      <td>...</td>\n",
       "      <td>...</td>\n",
       "      <td>...</td>\n",
       "    </tr>\n",
       "    <tr>\n",
       "      <th>95</th>\n",
       "      <td>15.6</td>\n",
       "      <td>Nvidia GeForce RTX 3050</td>\n",
       "      <td>165.0</td>\n",
       "      <td>0.0</td>\n",
       "      <td>8</td>\n",
       "      <td>512.0</td>\n",
       "      <td>1920 x 1080</td>\n",
       "      <td>11.0</td>\n",
       "      <td>Intel Core i5</td>\n",
       "      <td>Windows</td>\n",
       "      <td>https://www.trendyol.com//lenovo/ideapad-gamin...</td>\n",
       "      <td>26.6292</td>\n",
       "    </tr>\n",
       "    <tr>\n",
       "      <th>96</th>\n",
       "      <td>15.6</td>\n",
       "      <td>Intel Iris Graphics</td>\n",
       "      <td>60.0</td>\n",
       "      <td>0.0</td>\n",
       "      <td>8</td>\n",
       "      <td>512.0</td>\n",
       "      <td>1920 x 1080</td>\n",
       "      <td>11.0</td>\n",
       "      <td>Intel Core i5</td>\n",
       "      <td>Free Dos</td>\n",
       "      <td>https://www.trendyol.com//msi/modern-15-b11m-0...</td>\n",
       "      <td>16.3990</td>\n",
       "    </tr>\n",
       "    <tr>\n",
       "      <th>97</th>\n",
       "      <td>15.6</td>\n",
       "      <td>Intel UHD Graphics</td>\n",
       "      <td>60.0</td>\n",
       "      <td>0.0</td>\n",
       "      <td>24</td>\n",
       "      <td>1.0</td>\n",
       "      <td>1920 x 1080</td>\n",
       "      <td>12.0</td>\n",
       "      <td>Intel Core i5</td>\n",
       "      <td>Free Dos</td>\n",
       "      <td>https://www.trendyol.com//asus/vivobook-15-i5-...</td>\n",
       "      <td>18.2990</td>\n",
       "    </tr>\n",
       "    <tr>\n",
       "      <th>98</th>\n",
       "      <td>15.6</td>\n",
       "      <td>Nvidia GeForce GTX 1650</td>\n",
       "      <td>60.0</td>\n",
       "      <td>0.0</td>\n",
       "      <td>8</td>\n",
       "      <td>256.0</td>\n",
       "      <td>1920 x 1080</td>\n",
       "      <td>5.0</td>\n",
       "      <td>AMD Ryzen 5</td>\n",
       "      <td>Free Dos</td>\n",
       "      <td>https://www.trendyol.com//hp/victus-gaming-15-...</td>\n",
       "      <td>21.9990</td>\n",
       "    </tr>\n",
       "    <tr>\n",
       "      <th>99</th>\n",
       "      <td>15.6</td>\n",
       "      <td>Nvidia GeForce RTX 3050</td>\n",
       "      <td>120.0</td>\n",
       "      <td>0.0</td>\n",
       "      <td>16</td>\n",
       "      <td>512.0</td>\n",
       "      <td>1920 x 1080</td>\n",
       "      <td>11.0</td>\n",
       "      <td>Intel Core i5</td>\n",
       "      <td>Windows</td>\n",
       "      <td>https://www.trendyol.com//lenovo/ip-gaming-3-1...</td>\n",
       "      <td>27.8940</td>\n",
       "    </tr>\n",
       "  </tbody>\n",
       "</table>\n",
       "<p>100 rows × 12 columns</p>\n",
       "</div>"
      ],
      "text/plain": [
       "    Ekran_Boyutu              Ekran_Karti  Ekran_Yenileme_Hizi  \\\n",
       "0           15.6       Dahili Ekran Kartı                 60.0   \n",
       "1           13.0          M1 7 Çekirdekli                 60.0   \n",
       "2           15.6      AMD Radeon Graphics                 60.0   \n",
       "3           15.6  Nvidia GeForce RTX 2050                144.0   \n",
       "4           15.6       Intel UHD Graphics                 60.0   \n",
       "..           ...                      ...                  ...   \n",
       "95          15.6  Nvidia GeForce RTX 3050                165.0   \n",
       "96          15.6      Intel Iris Graphics                 60.0   \n",
       "97          15.6       Intel UHD Graphics                 60.0   \n",
       "98          15.6  Nvidia GeForce GTX 1650                 60.0   \n",
       "99          15.6  Nvidia GeForce RTX 3050                120.0   \n",
       "\n",
       "    Hard_Disk_Kapasitesi  Ram  SSD_Kapasitesi   Cozunurluk  Islemci_Nesli  \\\n",
       "0                    0.0   4              0.0   1366 x 768            4.0   \n",
       "1                  256.0  16            256.0  2560 x 1600           13.0   \n",
       "2                    0.0  16            512.0  1920 x 1080            5.0   \n",
       "3                    0.0   8            512.0  1920 x 1080           11.0   \n",
       "4                    0.0   4            128.0  1920 x 1080            2.0   \n",
       "..                   ...  ...             ...          ...            ...   \n",
       "95                   0.0   8            512.0  1920 x 1080           11.0   \n",
       "96                   0.0   8            512.0  1920 x 1080           11.0   \n",
       "97                   0.0  24              1.0  1920 x 1080           12.0   \n",
       "98                   0.0   8            256.0  1920 x 1080            5.0   \n",
       "99                   0.0  16            512.0  1920 x 1080           11.0   \n",
       "\n",
       "     Islemci_Tipi Isletim_Sistemi  \\\n",
       "0   Intel Celeron        Free Dos   \n",
       "1        Apple M1          Mac Os   \n",
       "2     AMD Ryzen 7        Free Dos   \n",
       "3   Intel Core i5        Free Dos   \n",
       "4   Intel Celeron           Linux   \n",
       "..            ...             ...   \n",
       "95  Intel Core i5         Windows   \n",
       "96  Intel Core i5        Free Dos   \n",
       "97  Intel Core i5        Free Dos   \n",
       "98    AMD Ryzen 5        Free Dos   \n",
       "99  Intel Core i5         Windows   \n",
       "\n",
       "                                                  url    price  \n",
       "0   https://www.trendyol.com//lenovo/ideapad1-inte...   6.7990  \n",
       "1   https://www.trendyol.com//monster/abra-a5-v16-...  22.9733  \n",
       "2   https://www.trendyol.com//lenovo/ideapad-amd-r...  13.0990  \n",
       "3   https://www.trendyol.com//asus/tuf-gaming-f15-...  24.7500  \n",
       "4   https://www.trendyol.com//acer/aspire3-intel-c...   6.2900  \n",
       "..                                                ...      ...  \n",
       "95  https://www.trendyol.com//lenovo/ideapad-gamin...  26.6292  \n",
       "96  https://www.trendyol.com//msi/modern-15-b11m-0...  16.3990  \n",
       "97  https://www.trendyol.com//asus/vivobook-15-i5-...  18.2990  \n",
       "98  https://www.trendyol.com//hp/victus-gaming-15-...  21.9990  \n",
       "99  https://www.trendyol.com//lenovo/ip-gaming-3-1...  27.8940  \n",
       "\n",
       "[100 rows x 12 columns]"
      ]
     },
     "execution_count": 194,
     "metadata": {},
     "output_type": "execute_result"
    }
   ],
   "source": [
    "data.head(100)"
   ]
  },
  {
   "cell_type": "code",
   "execution_count": 60,
   "metadata": {},
   "outputs": [
    {
     "name": "stdout",
     "output_type": "stream",
     "text": [
      "<class 'pandas.core.frame.DataFrame'>\n",
      "RangeIndex: 1776 entries, 0 to 1775\n",
      "Data columns (total 12 columns):\n",
      " #   Column                Non-Null Count  Dtype  \n",
      "---  ------                --------------  -----  \n",
      " 0   Ekran_Boyutu          1751 non-null   float64\n",
      " 1   Ekran_Karti           1743 non-null   object \n",
      " 2   Ekran_Yenileme_Hizi   1727 non-null   float64\n",
      " 3   Hard_Disk_Kapasitesi  1736 non-null   float64\n",
      " 4   Ram                   1743 non-null   object \n",
      " 5   SSD_Kapasitesi        1751 non-null   float64\n",
      " 6   Cozunurluk            1743 non-null   object \n",
      " 7   Islemci_Nesli         1736 non-null   object \n",
      " 8   Islemci_Tipi          1743 non-null   object \n",
      " 9   Isletim_Sistemi       1743 non-null   object \n",
      " 10  url                   1776 non-null   object \n",
      " 11  price                 1776 non-null   float64\n",
      "dtypes: float64(5), object(7)\n",
      "memory usage: 166.6+ KB\n"
     ]
    }
   ],
   "source": [
    "data.info()"
   ]
  },
  {
   "cell_type": "code",
   "execution_count": 61,
   "metadata": {},
   "outputs": [
    {
     "ename": "NameError",
     "evalue": "name 'Islemci_Tipi' is not defined",
     "output_type": "error",
     "traceback": [
      "\u001b[1;31m---------------------------------------------------------------------------\u001b[0m",
      "\u001b[1;31mNameError\u001b[0m                                 Traceback (most recent call last)",
      "Cell \u001b[1;32mIn[61], line 1\u001b[0m\n\u001b[1;32m----> 1\u001b[0m Islemci_Tipi\n",
      "\u001b[1;31mNameError\u001b[0m: name 'Islemci_Tipi' is not defined"
     ]
    }
   ],
   "source": [
    "Islemci_Tipi"
   ]
  },
  {
   "cell_type": "code",
   "execution_count": 62,
   "metadata": {},
   "outputs": [
    {
     "data": {
      "text/plain": [
       "0       Intel Celeron\n",
       "1            Apple M1\n",
       "2         AMD Ryzen 7\n",
       "3       Intel Core i5\n",
       "4       Intel Celeron\n",
       "            ...      \n",
       "1771    Intel Core i7\n",
       "1772    Intel Core i9\n",
       "1773    Intel Core i7\n",
       "1774    Intel Core i5\n",
       "1775    Intel Core i5\n",
       "Name: Islemci_Tipi, Length: 1776, dtype: object"
      ]
     },
     "execution_count": 62,
     "metadata": {},
     "output_type": "execute_result"
    }
   ],
   "source": [
    "data[\"Islemci_Tipi\"]"
   ]
  },
  {
   "cell_type": "code",
   "execution_count": null,
   "metadata": {},
   "outputs": [],
   "source": [
    "Isletim_Sistemi"
   ]
  },
  {
   "cell_type": "code",
   "execution_count": 259,
   "metadata": {},
   "outputs": [
    {
     "data": {
      "text/plain": [
       "0       Free Dos\n",
       "1         Mac Os\n",
       "2       Free Dos\n",
       "3       Free Dos\n",
       "4          Linux\n",
       "          ...   \n",
       "1771    Free Dos\n",
       "1772    Free Dos\n",
       "1773     Windows\n",
       "1774    Free Dos\n",
       "1775     Windows\n",
       "Name: Isletim_Sistemi, Length: 1776, dtype: object"
      ]
     },
     "execution_count": 259,
     "metadata": {},
     "output_type": "execute_result"
    }
   ],
   "source": [
    "data[\"Isletim_Sistemi\"]"
   ]
  },
  {
   "cell_type": "code",
   "execution_count": 260,
   "metadata": {},
   "outputs": [],
   "source": [
    "data[\"Isletim_Sistemi\"] = data.Isletim_Sistemi.str.replace('Free Dos', '0')"
   ]
  },
  {
   "cell_type": "code",
   "execution_count": 261,
   "metadata": {},
   "outputs": [],
   "source": [
    "data[\"Isletim_Sistemi\"] = data.Isletim_Sistemi.str.replace('Windows', '1')"
   ]
  },
  {
   "cell_type": "code",
   "execution_count": 262,
   "metadata": {},
   "outputs": [],
   "source": [
    "data[\"Isletim_Sistemi\"] = data.Isletim_Sistemi.str.replace('Mac Os', '2')"
   ]
  },
  {
   "cell_type": "code",
   "execution_count": 264,
   "metadata": {},
   "outputs": [],
   "source": [
    "data[\"Isletim_Sistemi\"] = data.Isletim_Sistemi.str.replace('Linux', '3')"
   ]
  },
  {
   "cell_type": "code",
   "execution_count": 266,
   "metadata": {},
   "outputs": [],
   "source": [
    "data[\"Isletim_Sistemi\"] = data.Isletim_Sistemi.str.replace('Chrome OS', '4')"
   ]
  },
  {
   "cell_type": "code",
   "execution_count": 275,
   "metadata": {},
   "outputs": [],
   "source": [
    "data[\"Isletim_Sistemi\"] = data.Isletim_Sistemi.str.replace('Ubuntu', '5')"
   ]
  },
  {
   "cell_type": "code",
   "execution_count": 276,
   "metadata": {},
   "outputs": [],
   "source": [
    "data[\"Isletim_Sistemi\"] = data.Isletim_Sistemi.str.replace('1 11', '6')"
   ]
  },
  {
   "cell_type": "code",
   "execution_count": 277,
   "metadata": {},
   "outputs": [
    {
     "data": {
      "text/plain": [
       "0       0\n",
       "1       2\n",
       "2       0\n",
       "3       0\n",
       "4       3\n",
       "       ..\n",
       "1771    0\n",
       "1772    0\n",
       "1773    1\n",
       "1774    0\n",
       "1775    1\n",
       "Name: Isletim_Sistemi, Length: 1776, dtype: object"
      ]
     },
     "execution_count": 277,
     "metadata": {},
     "output_type": "execute_result"
    }
   ],
   "source": [
    "data[\"Isletim_Sistemi\"]"
   ]
  },
  {
   "cell_type": "code",
   "execution_count": 63,
   "metadata": {},
   "outputs": [
    {
     "data": {
      "image/png": "[encoded data removed]",
      "text/plain": [
       "<Figure size 1600x1600 with 1 Axes>"
      ]
     },
     "metadata": {},
     "output_type": "display_data"
    }
   ],
   "source": [
    "plt.figure(figsize=(16,16))\n",
    "plt.subplot(2,1,1)\n",
    "sns.countplot(x='Isletim_Sistemi',data = data,order = data['Isletim_Sistemi'].value_counts().index)\n",
    "plt.xticks(rotation = 90)\n",
    "plt.show()"
   ]
  },
  {
   "cell_type": "code",
   "execution_count": 279,
   "metadata": {},
   "outputs": [
    {
     "name": "stdout",
     "output_type": "stream",
     "text": [
      "<class 'pandas.core.frame.DataFrame'>\n",
      "RangeIndex: 1776 entries, 0 to 1775\n",
      "Data columns (total 12 columns):\n",
      " #   Column                Non-Null Count  Dtype  \n",
      "---  ------                --------------  -----  \n",
      " 0   Ekran_Boyutu          1751 non-null   float64\n",
      " 1   Ekran_Karti           1743 non-null   object \n",
      " 2   Ekran_Yenileme_Hizi   1727 non-null   float64\n",
      " 3   Hard_Disk_Kapasitesi  1736 non-null   float64\n",
      " 4   Ram                   1743 non-null   object \n",
      " 5   SSD_Kapasitesi        1751 non-null   float64\n",
      " 6   Cozunurluk            1743 non-null   object \n",
      " 7   Islemci_Nesli         1736 non-null   object \n",
      " 8   Islemci_Tipi          1743 non-null   object \n",
      " 9   Isletim_Sistemi       1743 non-null   object \n",
      " 10  url                   1776 non-null   object \n",
      " 11  price                 1776 non-null   float64\n",
      "dtypes: float64(5), object(7)\n",
      "memory usage: 166.6+ KB\n"
     ]
    }
   ],
   "source": [
    "data.info()"
   ]
  },
  {
   "cell_type": "code",
   "execution_count": 281,
   "metadata": {},
   "outputs": [
    {
     "name": "stdout",
     "output_type": "stream",
     "text": [
      "Max Fiyat: 187.349 TL --> https://www.trendyol.com//lenovo/thinkpad-p16-21d6003ntx-i9-12950hx-32gb-1tbssd-a4500-16-uhd-w10p-tasinabilir-is-istasyonu-p-466325265\n",
      "Max Ekran_Boyutu: 18.4 İNÇ --> https://www.trendyol.com//asus/rog-strix-scar-18-g834jy-n6042-i9-13980hx-32gb-2tb-ssd-rtx4090-dos-18-240-hz-qhd-notebook-p-641693144\n",
      "Max SSD_Kapasitesi: 512.0 GB or TB --> https://www.trendyol.com//lenovo/ideapad-amd-ryzen-7-5700u-16gb-512gb-ssd-freedos-15-6-82r4006ftra38-p-752653765\n"
     ]
    }
   ],
   "source": [
    "print(\"Max Fiyat: \"+str(data[\"price\"].max()).replace('0.0', '') + \" TL --> \"  + str(data[\"url\"].loc[data[\"price\"].idxmax()]))\n",
    "print(\"Max Ekran_Boyutu: \"+str(data[\"Ekran_Boyutu\"].max()) + \" İNÇ --> \"  + str(data[\"url\"].loc[data[\"Ekran_Boyutu\"].idxmax()]))\n",
    "print(\"Max SSD_Kapasitesi: \"+str(data[\"SSD_Kapasitesi\"].max()) + \" GB or TB --> \"+ str(data[\"url\"].loc[data[\"SSD_Kapasitesi\"].idxmax()]))\n"
   ]
  },
  {
   "cell_type": "code",
   "execution_count": 282,
   "metadata": {},
   "outputs": [
    {
     "name": "stdout",
     "output_type": "stream",
     "text": [
      "Min Fiyat: 3.999 TL --> https://www.trendyol.com//samsung/a10-32-gb-yenilenmis-p-466718692\n",
      "Min Ekran_Boyutu: 7.0 İNÇ --> https://www.trendyol.com//asus/rog-ally-ryzen-z1-extreme-16gb-ram-512gb-ssd-7inc-w11-p-779235382\n",
      "Min SSD_Kapasitesi: 0.0 GB or TB --> https://www.trendyol.com//lenovo/ideapad1-intel-celeron-n4120-4gb-128gb-emmc-dos-15-6-cloud-grey-laptop-lenovo-turkiye-garantili-p-652489295\n"
     ]
    }
   ],
   "source": [
    "print(\"Min Fiyat: \"+str(data[\"price\"].min()).replace('0.0', '') + \" TL --> \"  + str(data[\"url\"].loc[data[\"price\"].idxmin()]))\n",
    "print(\"Min Ekran_Boyutu: \"+str(data[\"Ekran_Boyutu\"].min()) + \" İNÇ --> \"  + str(data[\"url\"].loc[data[\"Ekran_Boyutu\"].idxmin()]))\n",
    "print(\"Min SSD_Kapasitesi: \"+str(data[\"SSD_Kapasitesi\"].min()) + \" GB or TB --> \"+ str(data[\"url\"].loc[data[\"SSD_Kapasitesi\"].idxmin()]))\n"
   ]
  },
  {
   "cell_type": "code",
   "execution_count": 195,
   "metadata": {},
   "outputs": [],
   "source": [
    "data.to_csv(\"laptop_EDA4.csv\",index=False)"
   ]
  },
  {
   "cell_type": "code",
   "execution_count": null,
   "metadata": {},
   "outputs": [],
   "source": []
  }
 ],
 "metadata": {
  "kernelspec": {
   "display_name": "Python 3 (ipykernel)",
   "language": "python",
   "name": "python3"
  },
  "language_info": {
   "codemirror_mode": {
    "name": "ipython",
    "version": 3
   },
   "file_extension": ".py",
   "mimetype": "text/x-python",
   "name": "python",
   "nbconvert_exporter": "python",
   "pygments_lexer": "ipython3",
   "version": "3.11.4"
  }
 },
 "nbformat": 4,
 "nbformat_minor": 4
}
